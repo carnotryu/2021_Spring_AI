{
  "nbformat": 4,
  "nbformat_minor": 0,
  "metadata": {
    "colab": {
      "name": "week05_KNN_classification_01.ipynb",
      "provenance": [],
      "collapsed_sections": [],
      "authorship_tag": "ABX9TyNw2iFtf9TsSFG8uF/0w+cX"
    },
    "kernelspec": {
      "name": "python3",
      "display_name": "Python 3"
    },
    "language_info": {
      "name": "python"
    }
  },
  "cells": [
    {
      "cell_type": "code",
      "metadata": {
        "id": "xoJdE1K22CBr"
      },
      "source": [
        "# https://teddylee777.github.io/scikit-learn/KNeighborsClassifier%EB%A5%BC-%ED%99%9C%EC%9A%A9%ED%95%9C-%EB%B6%84%EB%A5%98%EA%B8%B0-%EC%A0%81%EC%9A%A9%ED%95%98%EA%B8%B0"
      ],
      "execution_count": 1,
      "outputs": []
    },
    {
      "cell_type": "markdown",
      "metadata": {
        "id": "1X7WxICJ0DiV"
      },
      "source": [
        "### Import Packages and Modules"
      ]
    },
    {
      "cell_type": "code",
      "metadata": {
        "id": "gexXim_E82fa"
      },
      "source": [
        "import pandas as pd\n",
        "import numpy as np\n",
        "from sklearn.datasets import load_iris\n",
        "import matplotlib.pyplot as plt"
      ],
      "execution_count": 2,
      "outputs": []
    },
    {
      "cell_type": "markdown",
      "metadata": {
        "id": "IwWvV4el0LqT"
      },
      "source": [
        "### Iris 데이터 불러오기"
      ]
    },
    {
      "cell_type": "code",
      "metadata": {
        "id": "YMUbKXuO9ACV"
      },
      "source": [
        "iris = load_iris()"
      ],
      "execution_count": 3,
      "outputs": []
    },
    {
      "cell_type": "code",
      "metadata": {
        "colab": {
          "base_uri": "https://localhost:8080/"
        },
        "id": "uWP4std30Phz",
        "outputId": "6225dc0a-0714-455c-da3f-c71f7f89fe35"
      },
      "source": [
        "iris.keys()"
      ],
      "execution_count": 4,
      "outputs": [
        {
          "output_type": "execute_result",
          "data": {
            "text/plain": [
              "dict_keys(['data', 'target', 'target_names', 'DESCR', 'feature_names', 'filename'])"
            ]
          },
          "metadata": {
            "tags": []
          },
          "execution_count": 4
        }
      ]
    },
    {
      "cell_type": "code",
      "metadata": {
        "colab": {
          "base_uri": "https://localhost:8080/"
        },
        "id": "-1LAW4YR0TLi",
        "outputId": "c5243c9b-0229-4cb2-8350-2da1c8912712"
      },
      "source": [
        "iris.target_names"
      ],
      "execution_count": 5,
      "outputs": [
        {
          "output_type": "execute_result",
          "data": {
            "text/plain": [
              "array(['setosa', 'versicolor', 'virginica'], dtype='<U10')"
            ]
          },
          "metadata": {
            "tags": []
          },
          "execution_count": 5
        }
      ]
    },
    {
      "cell_type": "code",
      "metadata": {
        "colab": {
          "base_uri": "https://localhost:8080/"
        },
        "id": "PnEVmtGI0WO7",
        "outputId": "822a82e3-4444-47c5-c824-808d38bcc211"
      },
      "source": [
        "iris.feature_names"
      ],
      "execution_count": 6,
      "outputs": [
        {
          "output_type": "execute_result",
          "data": {
            "text/plain": [
              "['sepal length (cm)',\n",
              " 'sepal width (cm)',\n",
              " 'petal length (cm)',\n",
              " 'petal width (cm)']"
            ]
          },
          "metadata": {
            "tags": []
          },
          "execution_count": 6
        }
      ]
    },
    {
      "cell_type": "code",
      "metadata": {
        "colab": {
          "base_uri": "https://localhost:8080/"
        },
        "id": "A7z_d3Kv0YM-",
        "outputId": "537e81c5-5bb6-4a8e-ce05-be91d61472f6"
      },
      "source": [
        "iris.data[:10]"
      ],
      "execution_count": 7,
      "outputs": [
        {
          "output_type": "execute_result",
          "data": {
            "text/plain": [
              "array([[5.1, 3.5, 1.4, 0.2],\n",
              "       [4.9, 3. , 1.4, 0.2],\n",
              "       [4.7, 3.2, 1.3, 0.2],\n",
              "       [4.6, 3.1, 1.5, 0.2],\n",
              "       [5. , 3.6, 1.4, 0.2],\n",
              "       [5.4, 3.9, 1.7, 0.4],\n",
              "       [4.6, 3.4, 1.4, 0.3],\n",
              "       [5. , 3.4, 1.5, 0.2],\n",
              "       [4.4, 2.9, 1.4, 0.2],\n",
              "       [4.9, 3.1, 1.5, 0.1]])"
            ]
          },
          "metadata": {
            "tags": []
          },
          "execution_count": 7
        }
      ]
    },
    {
      "cell_type": "code",
      "metadata": {
        "colab": {
          "base_uri": "https://localhost:8080/"
        },
        "id": "R7fohXCV0b2D",
        "outputId": "9a3fc88d-afe2-4530-cca2-36036325a65e"
      },
      "source": [
        "iris.target"
      ],
      "execution_count": 8,
      "outputs": [
        {
          "output_type": "execute_result",
          "data": {
            "text/plain": [
              "array([0, 0, 0, 0, 0, 0, 0, 0, 0, 0, 0, 0, 0, 0, 0, 0, 0, 0, 0, 0, 0, 0,\n",
              "       0, 0, 0, 0, 0, 0, 0, 0, 0, 0, 0, 0, 0, 0, 0, 0, 0, 0, 0, 0, 0, 0,\n",
              "       0, 0, 0, 0, 0, 0, 1, 1, 1, 1, 1, 1, 1, 1, 1, 1, 1, 1, 1, 1, 1, 1,\n",
              "       1, 1, 1, 1, 1, 1, 1, 1, 1, 1, 1, 1, 1, 1, 1, 1, 1, 1, 1, 1, 1, 1,\n",
              "       1, 1, 1, 1, 1, 1, 1, 1, 1, 1, 1, 1, 2, 2, 2, 2, 2, 2, 2, 2, 2, 2,\n",
              "       2, 2, 2, 2, 2, 2, 2, 2, 2, 2, 2, 2, 2, 2, 2, 2, 2, 2, 2, 2, 2, 2,\n",
              "       2, 2, 2, 2, 2, 2, 2, 2, 2, 2, 2, 2, 2, 2, 2, 2, 2, 2])"
            ]
          },
          "metadata": {
            "tags": []
          },
          "execution_count": 8
        }
      ]
    },
    {
      "cell_type": "code",
      "metadata": {
        "colab": {
          "base_uri": "https://localhost:8080/"
        },
        "id": "bm8S1Zzg0fID",
        "outputId": "ad529942-e172-409a-dae4-1ded8dd50c46"
      },
      "source": [
        "len(iris.data)"
      ],
      "execution_count": 9,
      "outputs": [
        {
          "output_type": "execute_result",
          "data": {
            "text/plain": [
              "150"
            ]
          },
          "metadata": {
            "tags": []
          },
          "execution_count": 9
        }
      ]
    },
    {
      "cell_type": "markdown",
      "metadata": {
        "id": "4rjDcUrC2WGn"
      },
      "source": [
        "### 두 개의 feature만으로 분류해보기 (Sepal length and width)"
      ]
    },
    {
      "cell_type": "code",
      "metadata": {
        "colab": {
          "base_uri": "https://localhost:8080/",
          "height": 388
        },
        "id": "JT0uTNip0kRj",
        "outputId": "30adde63-751b-4ae7-a1b7-cf0956fa273c"
      },
      "source": [
        "# here we only select sepal length and width (select first 2 columns)\n",
        "X = iris.data[:, :2]\n",
        "y = iris.target\n",
        "\n",
        "# visualization을 위하여 각 축의 limit 설정\n",
        "x_min, x_max = X[:, 0].min() - .5, X[:, 0].max() + .5\n",
        "y_min, y_max = X[:, 1].min() - .5, X[:, 1].max() + .5\n",
        "\n",
        "plt.figure(figsize=(8, 6))\n",
        "\n",
        "# Plot the training points\n",
        "plt.scatter(X[:, 0], X[:, 1], c=y, cmap=plt.cm.Set1, edgecolor='k')\n",
        "plt.xlabel('Sepal length')\n",
        "plt.ylabel('Sepal width')\n",
        "plt.xlim(x_min, x_max)\n",
        "plt.ylim(y_min, y_max)\n",
        "\n",
        "plt.show()"
      ],
      "execution_count": 10,
      "outputs": [
        {
          "output_type": "display_data",
          "data": {
            "image/png": "[encoded data removed]",
            "text/plain": [
              "<Figure size 576x432 with 1 Axes>"
            ]
          },
          "metadata": {
            "tags": [],
            "needs_background": "light"
          }
        }
      ]
    },
    {
      "cell_type": "markdown",
      "metadata": {
        "id": "VkOJkkQQ26Vo"
      },
      "source": [
        "### sklearn 라이브러리를 이용한 KNN 수행"
      ]
    },
    {
      "cell_type": "code",
      "metadata": {
        "id": "3Rfe7bpL2evt"
      },
      "source": [
        "# 필요한 library import\n",
        "from sklearn.neighbors import KNeighborsClassifier\n",
        "from sklearn.model_selection import train_test_split, cross_val_score"
      ],
      "execution_count": 11,
      "outputs": []
    },
    {
      "cell_type": "code",
      "metadata": {
        "id": "tsyfqkUy3BUM"
      },
      "source": [
        "# 성능 측정을 위한 train_test_split\n",
        "x_train, x_test, y_train, y_test = train_test_split(X, y, test_size=0.3, shuffle=True, stratify=y, random_state=30)\n"
      ],
      "execution_count": 12,
      "outputs": []
    },
    {
      "cell_type": "code",
      "metadata": {
        "colab": {
          "base_uri": "https://localhost:8080/"
        },
        "id": "tyu7amkD3Cez",
        "outputId": "b7104d82-a096-4446-ac85-9cf009181931"
      },
      "source": [
        "clf = KNeighborsClassifier(n_neighbors=5) # k 값 설정 (n_neighbors)\n",
        "clf.fit(x_train, y_train)"
      ],
      "execution_count": 13,
      "outputs": [
        {
          "output_type": "execute_result",
          "data": {
            "text/plain": [
              "KNeighborsClassifier(algorithm='auto', leaf_size=30, metric='minkowski',\n",
              "                     metric_params=None, n_jobs=None, n_neighbors=5, p=2,\n",
              "                     weights='uniform')"
            ]
          },
          "metadata": {
            "tags": []
          },
          "execution_count": 13
        }
      ]
    },
    {
      "cell_type": "code",
      "metadata": {
        "id": "7GRMwMn73Mu7"
      },
      "source": [
        "# test set에 대한 예측해보기\n",
        "prediction = clf.predict(x_test)"
      ],
      "execution_count": 14,
      "outputs": []
    },
    {
      "cell_type": "code",
      "metadata": {
        "colab": {
          "base_uri": "https://localhost:8080/"
        },
        "id": "IByoYC6f3hI7",
        "outputId": "6facfb47-8f3b-44c9-ed07-9bb435b710fe"
      },
      "source": [
        "# test set에 대한 예측 결과\n",
        "prediction"
      ],
      "execution_count": 15,
      "outputs": [
        {
          "output_type": "execute_result",
          "data": {
            "text/plain": [
              "array([1, 0, 1, 1, 2, 0, 1, 0, 2, 2, 2, 0, 0, 0, 0, 1, 1, 2, 0, 0, 1, 0,\n",
              "       0, 2, 0, 0, 0, 1, 2, 1, 0, 1, 1, 2, 2, 1, 2, 1, 1, 1, 2, 2, 2, 2,\n",
              "       1])"
            ]
          },
          "metadata": {
            "tags": []
          },
          "execution_count": 15
        }
      ]
    },
    {
      "cell_type": "code",
      "metadata": {
        "colab": {
          "base_uri": "https://localhost:8080/"
        },
        "id": "AZX1WGxY3yl8",
        "outputId": "2ff6c871-225b-4a6f-e873-bbdea36f1597"
      },
      "source": [
        "# test set의 정답\n",
        "y_test"
      ],
      "execution_count": 16,
      "outputs": [
        {
          "output_type": "execute_result",
          "data": {
            "text/plain": [
              "array([2, 0, 2, 1, 2, 0, 1, 0, 2, 2, 2, 0, 0, 0, 0, 2, 1, 2, 0, 0, 1, 0,\n",
              "       0, 2, 0, 0, 0, 1, 2, 1, 0, 1, 1, 2, 1, 2, 1, 1, 1, 2, 1, 2, 1, 2,\n",
              "       1])"
            ]
          },
          "metadata": {
            "tags": []
          },
          "execution_count": 16
        }
      ]
    },
    {
      "cell_type": "code",
      "metadata": {
        "colab": {
          "base_uri": "https://localhost:8080/"
        },
        "id": "j63RbdjE30gD",
        "outputId": "7a67b064-1eda-425c-cbb0-cb11045c6a41"
      },
      "source": [
        "# 정확도 (accuracy)\n",
        "(prediction==y_test).mean()"
      ],
      "execution_count": 17,
      "outputs": [
        {
          "output_type": "execute_result",
          "data": {
            "text/plain": [
              "0.8"
            ]
          },
          "metadata": {
            "tags": []
          },
          "execution_count": 17
        }
      ]
    },
    {
      "cell_type": "markdown",
      "metadata": {
        "id": "vTBbi_8w4vRw"
      },
      "source": [
        "### 적절한 k value 찾아보기"
      ]
    },
    {
      "cell_type": "code",
      "metadata": {
        "id": "MaqO43SD4yXG"
      },
      "source": [
        "# k값에 따른 정확도를 저장할 변수\n",
        "#train_acc = []\n",
        "test_acc = []\n",
        "\n",
        "# k = 1 ~ 30 까지 각각 KNN 수행 및 정확도를 저장\n",
        "for n in range(1,31):\n",
        "    clf = KNeighborsClassifier(n_neighbors=n)\n",
        "    clf.fit(x_train, y_train)\n",
        "    prediction = clf.predict(x_test)\n",
        "    #train_acc.append(clf.score(x_train, y_train))\n",
        "    test_acc.append((prediction==y_test).mean())"
      ],
      "execution_count": 18,
      "outputs": []
    },
    {
      "cell_type": "code",
      "metadata": {
        "colab": {
          "base_uri": "https://localhost:8080/",
          "height": 570
        },
        "id": "yWq565Kg44Qk",
        "outputId": "e25c5d80-8b2c-458e-e41f-190c9a8e20a4"
      },
      "source": [
        "plt.figure(figsize=(12, 9))\n",
        "#plt.plot(range(1, 31), train_acc, label='TRAIN set')\n",
        "plt.plot(range(1, 31), test_acc, label='TEST set')\n",
        "plt.xlabel(\"n_neighbors\")\n",
        "plt.ylabel(\"accuracy\")\n",
        "plt.xticks(np.arange(0, 31, step=1))\n",
        "plt.legend()"
      ],
      "execution_count": 19,
      "outputs": [
        {
          "output_type": "execute_result",
          "data": {
            "text/plain": [
              "<matplotlib.legend.Legend at 0x7f114d1ec610>"
            ]
          },
          "metadata": {
            "tags": []
          },
          "execution_count": 19
        },
        {
          "output_type": "display_data",
          "data": {
            "image/png": "[encoded data removed]",
            "text/plain": [
              "<Figure size 864x648 with 1 Axes>"
            ]
          },
          "metadata": {
            "tags": [],
            "needs_background": "light"
          }
        }
      ]
    },
    {
      "cell_type": "markdown",
      "metadata": {
        "id": "ptsMnKPQ5map"
      },
      "source": [
        "### 성능 평가해보기 (confusion matrix, etc.)"
      ]
    },
    {
      "cell_type": "code",
      "metadata": {
        "colab": {
          "base_uri": "https://localhost:8080/"
        },
        "id": "CJn4Q09h5Gp0",
        "outputId": "46f295a4-c103-4546-ab93-df193b957358"
      },
      "source": [
        "clf = KNeighborsClassifier(n_neighbors=7) # k 값 설정 (n_neighbors)\n",
        "clf.fit(x_train, y_train)"
      ],
      "execution_count": 20,
      "outputs": [
        {
          "output_type": "execute_result",
          "data": {
            "text/plain": [
              "KNeighborsClassifier(algorithm='auto', leaf_size=30, metric='minkowski',\n",
              "                     metric_params=None, n_jobs=None, n_neighbors=7, p=2,\n",
              "                     weights='uniform')"
            ]
          },
          "metadata": {
            "tags": []
          },
          "execution_count": 20
        }
      ]
    },
    {
      "cell_type": "code",
      "metadata": {
        "id": "bt0wN1BA51hI"
      },
      "source": [
        "# test set에 대한 예측해보기\n",
        "prediction = clf.predict(x_test)"
      ],
      "execution_count": 21,
      "outputs": []
    },
    {
      "cell_type": "code",
      "metadata": {
        "colab": {
          "base_uri": "https://localhost:8080/"
        },
        "id": "tPGC2_zp53yj",
        "outputId": "29503f5e-d5a4-4e5c-bf9c-cf3c2571bcff"
      },
      "source": [
        "# test set에 대한 예측 결과\n",
        "prediction"
      ],
      "execution_count": 22,
      "outputs": [
        {
          "output_type": "execute_result",
          "data": {
            "text/plain": [
              "array([1, 0, 1, 1, 2, 0, 1, 0, 2, 2, 2, 0, 0, 0, 0, 1, 1, 2, 0, 0, 1, 0,\n",
              "       0, 2, 0, 0, 0, 1, 2, 1, 0, 1, 1, 2, 2, 1, 1, 1, 1, 1, 1, 2, 2, 2,\n",
              "       1])"
            ]
          },
          "metadata": {
            "tags": []
          },
          "execution_count": 22
        }
      ]
    },
    {
      "cell_type": "code",
      "metadata": {
        "colab": {
          "base_uri": "https://localhost:8080/"
        },
        "id": "F1wGBQzi55W7",
        "outputId": "be59e95a-0335-4855-f189-c91b60f9597d"
      },
      "source": [
        "# test set의 정답\n",
        "y_test"
      ],
      "execution_count": 23,
      "outputs": [
        {
          "output_type": "execute_result",
          "data": {
            "text/plain": [
              "array([2, 0, 2, 1, 2, 0, 1, 0, 2, 2, 2, 0, 0, 0, 0, 2, 1, 2, 0, 0, 1, 0,\n",
              "       0, 2, 0, 0, 0, 1, 2, 1, 0, 1, 1, 2, 1, 2, 1, 1, 1, 2, 1, 2, 1, 2,\n",
              "       1])"
            ]
          },
          "metadata": {
            "tags": []
          },
          "execution_count": 23
        }
      ]
    },
    {
      "cell_type": "code",
      "metadata": {
        "colab": {
          "base_uri": "https://localhost:8080/"
        },
        "id": "sW_1M2_y562s",
        "outputId": "efe5f49f-c619-4622-adf4-7946d99ec4d9"
      },
      "source": [
        "# 정확도 (accuracy)\n",
        "(prediction==y_test).mean()"
      ],
      "execution_count": 24,
      "outputs": [
        {
          "output_type": "execute_result",
          "data": {
            "text/plain": [
              "0.8444444444444444"
            ]
          },
          "metadata": {
            "tags": []
          },
          "execution_count": 24
        }
      ]
    },
    {
      "cell_type": "code",
      "metadata": {
        "id": "-Givk4KW6qKN"
      },
      "source": [
        "import seaborn as sns\n",
        "from sklearn.metrics import confusion_matrix"
      ],
      "execution_count": 25,
      "outputs": []
    },
    {
      "cell_type": "code",
      "metadata": {
        "colab": {
          "base_uri": "https://localhost:8080/",
          "height": 297
        },
        "id": "iMojZzUA58qz",
        "outputId": "03a4f64e-f04f-467e-d408-b0fd13a7b863"
      },
      "source": [
        "# confusion matrix 그리기\n",
        "x_lab = iris.target_names\n",
        "y_lab = iris.target_names\n",
        "\n",
        "conf_matrix = confusion_matrix(y_test, prediction)\n",
        "#conf_matrix = conf_matrix.astype('float') / conf_matrix.sum(axis=1)[:, np.newaxis] # 갯수가 아닌 비율로 표시하고 싶을 경우 주석 해제\n",
        "plt.figure(figsize=(7,4))\n",
        "aa = sns.heatmap(conf_matrix, xticklabels = x_lab, yticklabels = y_lab, annot=True, fmt=\".3f\", cmap=plt.cm.binary)#, vmin = 0.0, vmax = 1.0)\n",
        "plt.yticks(rotation='horizontal')\n",
        "plt.tight_layout()"
      ],
      "execution_count": 29,
      "outputs": [
        {
          "output_type": "display_data",
          "data": {
            "image/png": "[encoded data removed]",
            "text/plain": [
              "<Figure size 504x288 with 2 Axes>"
            ]
          },
          "metadata": {
            "tags": [],
            "needs_background": "light"
          }
        }
      ]
    },
    {
      "cell_type": "code",
      "metadata": {
        "colab": {
          "base_uri": "https://localhost:8080/"
        },
        "id": "h-KqLJ_96YwF",
        "outputId": "83a88ced-5b76-4d2e-a86b-89c2e4108837"
      },
      "source": [
        "# precision, recall, F1\n",
        "from sklearn.metrics import classification_report\n",
        "\n",
        "print(classification_report(y_test, prediction, digits=4))"
      ],
      "execution_count": 30,
      "outputs": [
        {
          "output_type": "stream",
          "text": [
            "              precision    recall  f1-score   support\n",
            "\n",
            "           0     1.0000    1.0000    1.0000        15\n",
            "           1     0.7222    0.8667    0.7879        15\n",
            "           2     0.8333    0.6667    0.7407        15\n",
            "\n",
            "    accuracy                         0.8444        45\n",
            "   macro avg     0.8519    0.8444    0.8429        45\n",
            "weighted avg     0.8519    0.8444    0.8429        45\n",
            "\n"
          ],
          "name": "stdout"
        }
      ]
    },
    {
      "cell_type": "code",
      "metadata": {
        "id": "qjFbbEH075bt"
      },
      "source": [
        ""
      ],
      "execution_count": null,
      "outputs": []
    }
  ]
}