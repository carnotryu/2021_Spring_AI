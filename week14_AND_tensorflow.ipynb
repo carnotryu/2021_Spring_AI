{
  "nbformat": 4,
  "nbformat_minor": 0,
  "metadata": {
    "colab": {
      "name": "week14_AND_tensorflow.ipynb",
      "provenance": [],
      "collapsed_sections": [],
      "authorship_tag": "ABX9TyMtSVzadzi9fiv+X5iIvxeJ"
    },
    "kernelspec": {
      "name": "python3",
      "display_name": "Python 3"
    },
    "language_info": {
      "name": "python"
    }
  },
  "cells": [
    {
      "cell_type": "markdown",
      "metadata": {
        "id": "luSEx2czU4Id"
      },
      "source": [
        "## AND / OR / XOR 이해하기 with tensorflow\n",
        "\n",
        "---\n",
        "\n"
      ]
    },
    {
      "cell_type": "code",
      "metadata": {
        "colab": {
          "base_uri": "https://localhost:8080/"
        },
        "id": "m0T_V2_1SakB",
        "outputId": "77e0e577-4aeb-4e0a-d733-2d949db61f51"
      },
      "source": [
        "import tensorflow.compat.v1 as tf\n",
        "tf.disable_v2_behavior()\n",
        "import numpy as np\n",
        "import matplotlib.pyplot as plt"
      ],
      "execution_count": 1,
      "outputs": [
        {
          "output_type": "stream",
          "text": [
            "WARNING:tensorflow:From /usr/local/lib/python3.7/dist-packages/tensorflow/python/compat/v2_compat.py:96: disable_resource_variables (from tensorflow.python.ops.variable_scope) is deprecated and will be removed in a future version.\n",
            "Instructions for updating:\n",
            "non-resource variables are not supported in the long term\n"
          ],
          "name": "stdout"
        }
      ]
    },
    {
      "cell_type": "code",
      "metadata": {
        "id": "w-bE-Zr8S7Od"
      },
      "source": [
        "x_data = [[0, 0],\n",
        "          [0, 1],\n",
        "          [1, 0],\n",
        "          [1, 1]]\n",
        "y_data = [[0],\n",
        "          [0],\n",
        "          [0],\n",
        "          [1]]\n",
        "x_data = np.array(x_data, dtype=np.float32)\n",
        "y_data = np.array(y_data, dtype=np.float32)"
      ],
      "execution_count": 2,
      "outputs": []
    },
    {
      "cell_type": "code",
      "metadata": {
        "id": "ZZQAyElNTIOF"
      },
      "source": [
        "X = tf.placeholder(tf.float32, [None, 2])\n",
        "Y = tf.placeholder(tf.float32, [None, 1])"
      ],
      "execution_count": 3,
      "outputs": []
    },
    {
      "cell_type": "code",
      "metadata": {
        "id": "pTgQL8q2TKLL"
      },
      "source": [
        "W = tf.Variable(tf.random_normal([2, 1]), name='weight')\n",
        "b = tf.Variable(tf.random_normal([1]), name='bias')\n",
        "hypothesis = tf.sigmoid(tf.matmul(X, W) + b)"
      ],
      "execution_count": 4,
      "outputs": []
    },
    {
      "cell_type": "code",
      "metadata": {
        "id": "9Gp5FhjaTLbd"
      },
      "source": [
        "cost = -tf.reduce_mean(Y * tf.log(hypothesis) + (1 - Y) * tf.log(1 - hypothesis))\n",
        "train = tf.train.GradientDescentOptimizer(learning_rate=0.01).minimize(cost)\n",
        "#train = tf.train.AdamOptimizer(learning_rate=0.01).minimize(cost)"
      ],
      "execution_count": 5,
      "outputs": []
    },
    {
      "cell_type": "code",
      "metadata": {
        "id": "ae8frkFbT_w4"
      },
      "source": [
        "predicted = tf.cast(hypothesis > 0.5, dtype=tf.float32)\n",
        "accuracy = tf.reduce_mean(tf.cast(tf.equal(predicted, Y), dtype=tf.float32))"
      ],
      "execution_count": 6,
      "outputs": []
    },
    {
      "cell_type": "code",
      "metadata": {
        "id": "BqCpQzN6TQ8M"
      },
      "source": [
        "sess = tf.Session()"
      ],
      "execution_count": 7,
      "outputs": []
    },
    {
      "cell_type": "code",
      "metadata": {
        "id": "FskKOEJwTUxE"
      },
      "source": [
        "sess.run(tf.global_variables_initializer())"
      ],
      "execution_count": 8,
      "outputs": []
    },
    {
      "cell_type": "code",
      "metadata": {
        "id": "2qXeqEWQTVqE"
      },
      "source": [
        "vcost =[]"
      ],
      "execution_count": 9,
      "outputs": []
    },
    {
      "cell_type": "code",
      "metadata": {
        "colab": {
          "base_uri": "https://localhost:8080/"
        },
        "id": "bCrrZ0xzTW30",
        "outputId": "90d15f09-0da1-41f2-9f00-0e02eb2e9a11"
      },
      "source": [
        "for step in range(10001):\n",
        "  cost1, _ = sess.run([cost, train], feed_dict={X: x_data, Y: y_data})\n",
        "  vcost.append(cost1)\n",
        "  if step %1000 ==0:\n",
        "    print(cost1)"
      ],
      "execution_count": 10,
      "outputs": [
        {
          "output_type": "stream",
          "text": [
            "0.7354436\n",
            "0.3180083\n",
            "0.26318973\n",
            "0.22793277\n",
            "0.20245518\n",
            "0.18270701\n",
            "0.16670902\n",
            "0.15337218\n",
            "0.14203097\n",
            "0.13224429\n",
            "0.12370153\n"
          ],
          "name": "stdout"
        }
      ]
    },
    {
      "cell_type": "code",
      "metadata": {
        "colab": {
          "base_uri": "https://localhost:8080/",
          "height": 313
        },
        "id": "b6yP28jnTX0c",
        "outputId": "a89abb00-9d3f-4a74-a4e8-52ee6da45991"
      },
      "source": [
        "plt.plot(vcost)\n",
        "plt.title('Cost')\n",
        "plt.xlabel('epoch')"
      ],
      "execution_count": 11,
      "outputs": [
        {
          "output_type": "execute_result",
          "data": {
            "text/plain": [
              "Text(0.5, 0, 'epoch')"
            ]
          },
          "metadata": {
            "tags": []
          },
          "execution_count": 11
        },
        {
          "output_type": "display_data",
          "data": {
            "image/png": "[encoded data removed]",
            "text/plain": [
              "<Figure size 432x288 with 1 Axes>"
            ]
          },
          "metadata": {
            "tags": [],
            "needs_background": "light"
          }
        }
      ]
    },
    {
      "cell_type": "code",
      "metadata": {
        "id": "oViS_2w4Td38"
      },
      "source": [
        "test1 = sess.run(hypothesis, feed_dict={X:[[0,0]]})"
      ],
      "execution_count": 12,
      "outputs": []
    },
    {
      "cell_type": "code",
      "metadata": {
        "colab": {
          "base_uri": "https://localhost:8080/"
        },
        "id": "yMDQcVpFTpfj",
        "outputId": "bc729617-846c-452e-a1bd-5c789c8b0e93"
      },
      "source": [
        "print(test1[0][0])"
      ],
      "execution_count": 13,
      "outputs": [
        {
          "output_type": "stream",
          "text": [
            "0.0052619576\n"
          ],
          "name": "stdout"
        }
      ]
    },
    {
      "cell_type": "code",
      "metadata": {
        "colab": {
          "base_uri": "https://localhost:8080/"
        },
        "id": "ukCqQgVdTrEs",
        "outputId": "237e585f-afa6-4715-8c61-e9fe187144d6"
      },
      "source": [
        "for i in range(4):\n",
        "  test1 = sess.run(hypothesis, feed_dict={X:[x_data[i]]})\n",
        "  print(i, x_data[i], y_data[i], '-----', test1)"
      ],
      "execution_count": 14,
      "outputs": [
        {
          "output_type": "stream",
          "text": [
            "0 [0. 0.] [0.] ----- [[0.00526196]]\n",
            "1 [0. 1.] [0.] ----- [[0.12893695]]\n",
            "2 [1. 0.] [0.] ----- [[0.13444707]]\n",
            "3 [1. 1.] [1.] ----- [[0.81296235]]\n"
          ],
          "name": "stdout"
        }
      ]
    },
    {
      "cell_type": "code",
      "metadata": {
        "id": "WVwpRyaoT3bE"
      },
      "source": [
        "acc1 = sess.run(accuracy, feed_dict={X: x_data, Y: y_data})"
      ],
      "execution_count": 15,
      "outputs": []
    },
    {
      "cell_type": "code",
      "metadata": {
        "colab": {
          "base_uri": "https://localhost:8080/"
        },
        "id": "HV3_GcMdUE19",
        "outputId": "4381ae01-33d3-47d3-8cfe-eca6850f8da7"
      },
      "source": [
        "print(acc1)"
      ],
      "execution_count": 16,
      "outputs": [
        {
          "output_type": "stream",
          "text": [
            "1.0\n"
          ],
          "name": "stdout"
        }
      ]
    }
  ]
}